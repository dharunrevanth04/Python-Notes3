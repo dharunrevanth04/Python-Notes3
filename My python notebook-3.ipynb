{
 "cells": [
  {
   "cell_type": "code",
   "execution_count": 1,
   "id": "c17cdd75-0bc7-4776-a087-2154e7d43571",
   "metadata": {},
   "outputs": [
    {
     "name": "stdout",
     "output_type": "stream",
     "text": [
      "yes\n"
     ]
    }
   ],
   "source": [
    "x = 5\n",
    "y = 8\n",
    "if x < y :\n",
    "   print(\"yes\")"
   ]
  },
  {
   "cell_type": "code",
   "execution_count": 2,
   "id": "59e4bd8c-fa7d-46b6-82fd-bc9c8df0f358",
   "metadata": {},
   "outputs": [
    {
     "name": "stdout",
     "output_type": "stream",
     "text": [
      "it is equal\n"
     ]
    }
   ],
   "source": [
    "x = 5\n",
    "y = 5\n",
    "if x<y:\n",
    "    print(\"x is lesser than y\")\n",
    "elif x==y:\n",
    "    print(\"it is equal\")\n",
    "else:\n",
    "    print(\"no comparision\")\n",
    "    \n",
    "    "
   ]
  },
  {
   "cell_type": "code",
   "execution_count": 3,
   "id": "e54c01a1-72ca-415f-a45c-1818fcf4a355",
   "metadata": {},
   "outputs": [
    {
     "name": "stdout",
     "output_type": "stream",
     "text": [
      "yes\n",
      "no\n"
     ]
    }
   ],
   "source": [
    "x = 5\n",
    "y = 6 \n",
    "if x<y:\n",
    "    print(\"yes\")\n",
    "if  x==y:\n",
    "    print(\"yes yes\")\n",
    "else:\n",
    "    print(\"no\")\n"
   ]
  },
  {
   "cell_type": "code",
   "execution_count": 4,
   "id": "6912f6c6-e62a-45be-94f5-cad6dfb63598",
   "metadata": {},
   "outputs": [
    {
     "name": "stdout",
     "output_type": "stream",
     "text": [
      "no\n"
     ]
    }
   ],
   "source": [
    "x = 6\n",
    "print(\"yes\") if x==5 else print(\"no\")"
   ]
  },
  {
   "cell_type": "code",
   "execution_count": 5,
   "id": "d64f8bc1-3732-4e66-8984-7eaa0c1d1c08",
   "metadata": {},
   "outputs": [
    {
     "name": "stdout",
     "output_type": "stream",
     "text": [
      "yes\n"
     ]
    }
   ],
   "source": [
    "x = [3,4,5,6,7,8]\n",
    "if 0  not in x:\n",
    "    print(\"yes\")"
   ]
  },
  {
   "cell_type": "code",
   "execution_count": 6,
   "id": "de978f75-7adf-4f43-915b-3230c71f5dec",
   "metadata": {},
   "outputs": [],
   "source": [
    "x = 8\n",
    "y = 6 \n",
    "if x>y:\n",
    "    pass"
   ]
  },
  {
   "cell_type": "code",
   "execution_count": 7,
   "id": "aadffb88-6bf6-4ffd-9bb5-ad45cfc2bee3",
   "metadata": {},
   "outputs": [
    {
     "name": "stdout",
     "output_type": "stream",
     "text": [
      "1\n",
      "2\n",
      "3\n",
      "4\n",
      "5\n"
     ]
    }
   ],
   "source": [
    "i = 1\n",
    "while i < 6:\n",
    "    print(i)\n",
    "    i =i+1"
   ]
  },
  {
   "cell_type": "code",
   "execution_count": 8,
   "id": "05067999-abd0-4be7-aba6-2a5a8b7df6f0",
   "metadata": {},
   "outputs": [
    {
     "name": "stdout",
     "output_type": "stream",
     "text": [
      "1\n",
      "2\n",
      "3\n"
     ]
    }
   ],
   "source": [
    "i = 1\n",
    "while i <8:\n",
    "    print(i)\n",
    "    if i==3:\n",
    "      break\n",
    "    i = i+1\n",
    "      "
   ]
  },
  {
   "cell_type": "code",
   "execution_count": 20,
   "id": "70f88e26-3f57-45f0-9f13-dd023d97ab41",
   "metadata": {},
   "outputs": [
    {
     "name": "stdout",
     "output_type": "stream",
     "text": [
      "3\n",
      "4\n",
      "5\n",
      "6\n",
      "7\n",
      "8\n"
     ]
    }
   ],
   "source": [
    " i = 1\n",
    "while i < 8:\n",
    "   i = i + 1\n",
    "   if i==2:\n",
    "     continue\n",
    "   print(i)"
   ]
  },
  {
   "cell_type": "code",
   "execution_count": 24,
   "id": "12a6a21c-0a28-421c-8089-1da72dc00b90",
   "metadata": {},
   "outputs": [
    {
     "name": "stdout",
     "output_type": "stream",
     "text": [
      "1\n",
      "2\n",
      "3\n",
      "4\n",
      "5\n",
      "It is no longer true\n"
     ]
    }
   ],
   "source": [
    "i =  1\n",
    "while i < 6:\n",
    "    print(i)\n",
    "    i += 1\n",
    "else:\n",
    " print(\"It is no longer true\")\n"
   ]
  },
  {
   "cell_type": "code",
   "execution_count": 32,
   "id": "19768b6b-2962-4e00-917c-47197d3cc211",
   "metadata": {},
   "outputs": [
    {
     "name": "stdout",
     "output_type": "stream",
     "text": [
      "apple\n",
      "mango\n"
     ]
    }
   ],
   "source": [
    "x = [\"apple\",\"mango\",\"kiwi\"]\n",
    "for i in x:\n",
    "    print(i)\n",
    "    if i==\"mango\":\n",
    "      break\n",
    "      \n"
   ]
  },
  {
   "cell_type": "code",
   "execution_count": 36,
   "id": "42d85e8b-867c-421a-8d68-dc4b9d0f0746",
   "metadata": {},
   "outputs": [
    {
     "name": "stdout",
     "output_type": "stream",
     "text": [
      "apple\n",
      "banana\n",
      "mango\n"
     ]
    }
   ],
   "source": [
    "x = [\"apple\",\"banana\",\"mango\"]\n",
    "for i in x:\n",
    "    print(i)"
   ]
  },
  {
   "cell_type": "code",
   "execution_count": 40,
   "id": "7dbe173f-d829-451a-8df4-4e528c8cb59f",
   "metadata": {},
   "outputs": [
    {
     "name": "stdout",
     "output_type": "stream",
     "text": [
      "apple\n",
      "banana\n"
     ]
    }
   ],
   "source": [
    "x = [ \"apple\",\"banana\",\"kiwi\",\"lemon\"]\n",
    "for i in x:\n",
    "    if i==\"kiwi\":\n",
    "     break\n",
    "    print(i)"
   ]
  },
  {
   "cell_type": "code",
   "execution_count": 46,
   "id": "20365c2e-faf8-4140-9cf6-e547a5e3aa9a",
   "metadata": {},
   "outputs": [
    {
     "name": "stdout",
     "output_type": "stream",
     "text": [
      "apple\n",
      "lemon\n",
      "kiwi\n"
     ]
    }
   ],
   "source": [
    "x = [\"apple\",\"banana\",\"lemon\",\"kiwi\"]\n",
    "for i  in x:\n",
    "    if i==\"banana\":\n",
    "        continue\n",
    "    print(i)    "
   ]
  },
  {
   "cell_type": "code",
   "execution_count": 48,
   "id": "1b737c3b-5422-4ada-a986-5d9bd075bda2",
   "metadata": {},
   "outputs": [
    {
     "name": "stdout",
     "output_type": "stream",
     "text": [
      "0\n",
      "1\n",
      "2\n",
      "3\n",
      "4\n",
      "5\n",
      "6\n",
      "7\n"
     ]
    }
   ],
   "source": [
    "for x in range(8):print(x)"
   ]
  },
  {
   "cell_type": "code",
   "execution_count": 50,
   "id": "993e08bb-5965-40e5-a3c0-cdf1f9cac622",
   "metadata": {},
   "outputs": [
    {
     "name": "stdout",
     "output_type": "stream",
     "text": [
      "2\n",
      "3\n",
      "4\n",
      "5\n"
     ]
    }
   ],
   "source": [
    "for x in range(2,6):\n",
    "    print(x)"
   ]
  },
  {
   "cell_type": "code",
   "execution_count": 52,
   "id": "96b809b1-cd48-4009-9dba-b5e10425a65c",
   "metadata": {},
   "outputs": [
    {
     "name": "stdout",
     "output_type": "stream",
     "text": [
      "2\n",
      "5\n",
      "8\n",
      "11\n",
      "14\n",
      "17\n",
      "20\n",
      "23\n",
      "26\n",
      "29\n"
     ]
    }
   ],
   "source": [
    "for x in range(2,30,3):\n",
    "    print(x)"
   ]
  },
  {
   "cell_type": "code",
   "execution_count": 56,
   "id": "1a7b6ee5-3ba4-4e05-bf71-6047ac73ad3b",
   "metadata": {},
   "outputs": [
    {
     "name": "stdout",
     "output_type": "stream",
     "text": [
      "0\n",
      "1\n",
      "2\n",
      "3\n",
      "4\n",
      "5\n",
      "6\n",
      "7\n",
      "8\n",
      "9\n",
      "yes finaly finished\n"
     ]
    }
   ],
   "source": [
    "for x in range(10):\n",
    "    print(x)\n",
    "else:\n",
    "    print(\"yes finaly finished\")"
   ]
  },
  {
   "cell_type": "code",
   "execution_count": 75,
   "id": "23480836-5016-4514-8218-2f9bd6ccd3f4",
   "metadata": {},
   "outputs": [
    {
     "name": "stdout",
     "output_type": "stream",
     "text": [
      "0\n",
      "1\n"
     ]
    }
   ],
   "source": [
    "for x in range(10):\n",
    "   if x==2:\n",
    "    break\n",
    "   print(x)\n",
    "else:\n",
    "    print(\"finaly finished\")"
   ]
  },
  {
   "cell_type": "code",
   "execution_count": 84,
   "id": "659127d8-c104-47c8-ac46-f790a01ab890",
   "metadata": {},
   "outputs": [
    {
     "name": "stdout",
     "output_type": "stream",
     "text": [
      "apple melon\n",
      "apple orange\n",
      "mango melon\n",
      "mango orange\n",
      "lemon melon\n",
      "lemon orange\n",
      "kiwi melon\n",
      "kiwi orange\n"
     ]
    }
   ],
   "source": [
    "x = [\"apple\",\"mango\",\"lemon\",\"kiwi\"]\n",
    "y = [\"melon\",\"orange\"]\n",
    "for i in  x:\n",
    "   for a in y:\n",
    "      print(i,a)    "
   ]
  },
  {
   "cell_type": "code",
   "execution_count": 88,
   "id": "50b7cfd5-44e5-4ee4-922b-1652bcb66a13",
   "metadata": {},
   "outputs": [],
   "source": [
    "for x in [0,1,2]:\n",
    "   pass"
   ]
  },
  {
   "cell_type": "code",
   "execution_count": 90,
   "id": "8a09edfb-499a-4ca1-9000-04804777de55",
   "metadata": {},
   "outputs": [
    {
     "name": "stdout",
     "output_type": "stream",
     "text": [
      "hello world\n"
     ]
    }
   ],
   "source": [
    "#function\n",
    "def myfunc():\n",
    "    print(\"hello world\")\n",
    "myfunc()"
   ]
  },
  {
   "cell_type": "code",
   "execution_count": 94,
   "id": "dd147ce5-3cf7-4d9e-959a-dd3afca006fc",
   "metadata": {},
   "outputs": [
    {
     "name": "stdout",
     "output_type": "stream",
     "text": [
      "dharun hello\n",
      "revanth hello\n",
      "mageswari hello\n"
     ]
    }
   ],
   "source": [
    "def myfunc(fname):\n",
    "    print(fname + \" hello\")\n",
    "myfunc(\"dharun\")\n",
    "myfunc(\"revanth\")\n",
    "myfunc(\"mageswari\")"
   ]
  },
  {
   "cell_type": "code",
   "execution_count": 96,
   "id": "22eb8c0d-d185-426e-a8c5-9c559f3f9992",
   "metadata": {},
   "outputs": [
    {
     "name": "stdout",
     "output_type": "stream",
     "text": [
      "dharun revanth\n",
      "uma mageswari\n",
      "sibi yaswanth\n"
     ]
    }
   ],
   "source": [
    "def myfunc(name1,name2):\n",
    "    print(name1+ \" \"+name2)\n",
    "myfunc(\"dharun\",\"revanth\")\n",
    "myfunc(\"uma\",\"mageswari\")\n",
    "myfunc(\"sibi\",\"yaswanth\")\n",
    "    \n",
    "    "
   ]
  },
  {
   "cell_type": "code",
   "execution_count": 102,
   "id": "b8ef70e7-93fe-4fcc-8796-ac85b18245ec",
   "metadata": {},
   "outputs": [
    {
     "name": "stdout",
     "output_type": "stream",
     "text": [
      "He is dharun\n"
     ]
    }
   ],
   "source": [
    "def myfunc(*kids):\n",
    "    print(\"He is \" + kids[0])\n",
    "myfunc(\"dharun\",\"revanth\",\"uma\")\n"
   ]
  },
  {
   "cell_type": "code",
   "execution_count": 104,
   "id": "9cced4b3-b517-4e1b-8a0e-2870ff3cef2e",
   "metadata": {},
   "outputs": [
    {
     "name": "stdout",
     "output_type": "stream",
     "text": [
      "His name is sibi\n"
     ]
    }
   ],
   "source": [
    "def myfunc(child1,child2,child3):\n",
    "    print(\"His name is \" + child1)\n",
    "myfunc(child1=\"sibi\",child2=\"dharun\",child3=\"uma\")    \n",
    "    "
   ]
  },
  {
   "cell_type": "code",
   "execution_count": 168,
   "id": "4875b52d-89a9-4338-98d8-16add44997fa",
   "metadata": {},
   "outputs": [
    {
     "name": "stdout",
     "output_type": "stream",
     "text": [
      " He is dharun\n"
     ]
    }
   ],
   "source": [
    "def myfunc(**kids):\n",
    "   print( \" He is \" + kids[\"fname\"])\n",
    "myfunc(fname=\"dharun\",lname=\"revanth\")"
   ]
  },
  {
   "cell_type": "code",
   "execution_count": 116,
   "id": "11455f95-4e20-4bd8-9f15-4dc3b650f614",
   "metadata": {},
   "outputs": [
    {
     "name": "stdout",
     "output_type": "stream",
     "text": [
      "This is my norway\n",
      "This is my india\n",
      "This is my china\n",
      "This is my japan\n"
     ]
    }
   ],
   "source": [
    "def myfunc(country=\"norway\"):\n",
    "   print(\"This is my \" + country)\n",
    "myfunc()\n",
    "myfunc(\"india\")\n",
    "myfunc(\"china\")\n",
    "myfunc(\"japan\")\n",
    "    "
   ]
  },
  {
   "cell_type": "code",
   "execution_count": 128,
   "id": "76fe5f7d-becc-4cad-8726-8fe4d9e7df51",
   "metadata": {},
   "outputs": [
    {
     "name": "stdout",
     "output_type": "stream",
     "text": [
      "apple\n",
      "mango\n",
      "kiwi\n"
     ]
    }
   ],
   "source": [
    "def myfunc(fruits):\n",
    "    for x in fruits:\n",
    "       print(x)\n",
    "fruits=[\"apple\",\"mango\",\"kiwi\"]\n",
    "myfunc(fruits)"
   ]
  },
  {
   "cell_type": "code",
   "execution_count": 134,
   "id": "c583a5fd-b057-4a17-9121-0355912938c2",
   "metadata": {},
   "outputs": [
    {
     "name": "stdout",
     "output_type": "stream",
     "text": [
      "20\n"
     ]
    }
   ],
   "source": [
    "def myfunc(x):\n",
    "    print(5 * x)\n",
    "(myfunc(4))"
   ]
  },
  {
   "cell_type": "code",
   "execution_count": 142,
   "id": "80ddaa0f-5e17-4e06-bf4c-eecbca90779d",
   "metadata": {},
   "outputs": [
    {
     "name": "stdout",
     "output_type": "stream",
     "text": [
      "15\n",
      "25\n",
      "40\n"
     ]
    }
   ],
   "source": [
    "def myfunc(x):\n",
    "    return 5*x\n",
    "print(myfunc(3))\n",
    "print(myfunc(5))\n",
    "print(myfunc(8))"
   ]
  },
  {
   "cell_type": "code",
   "execution_count": 150,
   "id": "f4da0baf-683e-4542-8eac-599f70518f5e",
   "metadata": {},
   "outputs": [
    {
     "name": "stdout",
     "output_type": "stream",
     "text": [
      "3\n"
     ]
    }
   ],
   "source": [
    "def myfunc(*,x):\n",
    "    print(x)\n",
    "myfunc(x=3)"
   ]
  },
  {
   "cell_type": "code",
   "execution_count": 160,
   "id": "f9a3e90e-e624-4548-a0fa-e2a6119f2b05",
   "metadata": {},
   "outputs": [
    {
     "name": "stdout",
     "output_type": "stream",
     "text": [
      "3\n"
     ]
    }
   ],
   "source": [
    "def myfunc(x,/):\n",
    "    print(x)\n",
    "myfunc(3)"
   ]
  },
  {
   "cell_type": "code",
   "execution_count": 164,
   "id": "ded4dc3c-3514-4676-a8d3-10d5b670d0d5",
   "metadata": {},
   "outputs": [
    {
     "name": "stdout",
     "output_type": "stream",
     "text": [
      "10\n"
     ]
    }
   ],
   "source": [
    "def myfunc(a,b,/,*,c,d):\n",
    "    print(a+b+c+d)\n",
    "myfunc(1,2,c=3,d=4)"
   ]
  },
  {
   "cell_type": "code",
   "execution_count": null,
   "id": "519dcb8b-6d40-45fb-9b26-04790dc38fac",
   "metadata": {},
   "outputs": [],
   "source": []
  }
 ],
 "metadata": {
  "kernelspec": {
   "display_name": "Python 3 (ipykernel)",
   "language": "python",
   "name": "python3"
  },
  "language_info": {
   "codemirror_mode": {
    "name": "ipython",
    "version": 3
   },
   "file_extension": ".py",
   "mimetype": "text/x-python",
   "name": "python",
   "nbconvert_exporter": "python",
   "pygments_lexer": "ipython3",
   "version": "3.12.4"
  }
 },
 "nbformat": 4,
 "nbformat_minor": 5
}
